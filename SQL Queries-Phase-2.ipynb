{
 "cells": [
  {
   "cell_type": "markdown",
   "id": "4af6e1be",
   "metadata": {},
   "source": [
    "# Table1 Queries"
   ]
  },
  {
   "cell_type": "code",
   "execution_count": null,
   "id": "74f12d0c",
   "metadata": {},
   "outputs": [],
   "source": [
    "1)     Write a SQL query to order records by a rental price  column in ascending order.\n",
    "--- SELECT  * FROM `Table1` ORDER BY `Rental Price` ASC;\n"
   ]
  },
  {
   "cell_type": "code",
   "execution_count": null,
   "id": "19baac34",
   "metadata": {},
   "outputs": [],
   "source": [
    "2)    2 Write a SQL query  to select unique combinations of City and State with their average Rental Price.\n",
    "------- SELECT `City`, `State Code`, AVG(`Rental Price`) AS `AverageRentalPrice`\n",
    "FROM `Table1` GROUP BY `City`, `State Code`;\n"
   ]
  },
  {
   "cell_type": "code",
   "execution_count": null,
   "id": "2759d8e4",
   "metadata": {},
   "outputs": [],
   "source": [
    " 3)     Write a SQL query to select the top 5 highest deposit amounts with corresponding Address and City .\n",
    "---- SELECT `Address`, `City`, `Deposit` FROM `Table1`\n",
    "ORDER BY Deposit DESC LIMIT 5;\n"
   ]
  },
  {
   "cell_type": "code",
   "execution_count": null,
   "id": "0cf44270",
   "metadata": {},
   "outputs": [],
   "source": [
    "4)      Write a SQL query to select the count of records for each Country along with the total deposit amount.\n",
    "---- SELECT `Country`, COUNT(*) AS `RecordCount`, SUM(Deposit) AS `TotalDeposit` FROM `Table1` GROUP BY `Country`;\n"
   ]
  },
  {
   "cell_type": "code",
   "execution_count": null,
   "id": "de0e15c5",
   "metadata": {},
   "outputs": [],
   "source": [
    " 5)     Write a SQL query to select records with a Rental Price higher than the average Rental Price across all records.\n",
    "---- SELECT * FROM `Table1`\n",
    "WHERE `Rental Price` > (SELECT AVG(`Rental Price`) FROM `Table1`);\n"
   ]
  },
  {
   "cell_type": "markdown",
   "id": "2b4189a2",
   "metadata": {},
   "source": [
    "# Table2 Queries\n"
   ]
  },
  {
   "cell_type": "code",
   "execution_count": null,
   "id": "1702e166",
   "metadata": {},
   "outputs": [],
   "source": [
    "1)Write a SQL query to select the average area for each number of bedrooms.\n",
    "--- SELECT `No of Beds`, AVG(`Area`) AS AverageArea\n",
    "FROM `Table2`\n",
    "GROUP BY `No of Beds`;\n"
   ]
  },
  {
   "cell_type": "code",
   "execution_count": null,
   "id": "44c7c700",
   "metadata": {},
   "outputs": [],
   "source": [
    "2)   Write a SQL query to select records with more than one bathroom and pets allowed.\n",
    "--- SELECT *\n",
    "FROM `Table2`\n",
    "WHERE `No of Bathroom` > 1 AND `Pets Allowed` = true;\n"
   ]
  },
  {
   "cell_type": "code",
   "execution_count": null,
   "id": "3df4e8c3",
   "metadata": {},
   "outputs": [],
   "source": [
    "3)     Write a SQL query to select the top 3 records with the highest total area (bedrooms + bathrooms).\n",
    "--- SELECT *,(`No of Beds` + `No of Bathroom`) AS `TotalArea`\n",
    "FROM `Table2`\n",
    "ORDER BY `TotalArea` DESC\n",
    "LIMIT 3;\n"
   ]
  },
  {
   "cell_type": "code",
   "execution_count": null,
   "id": "e5a471fa",
   "metadata": {},
   "outputs": [],
   "source": [
    " 4)     Write a SQL query to select the count of records for each combination of bedrooms and bathrooms.\n",
    "--- SELECT `No of Beds` AS `NumberOfBedrooms`,\n",
    "       `No of Bathroom` AS `NumberOfBathrooms`,\n",
    "       COUNT(*) AS `RecordCount`\n",
    "FROM `Table2` GROUP BY `No of Beds`, `No of Bathroom`;\n"
   ]
  },
  {
   "cell_type": "code",
   "execution_count": null,
   "id": "38e8d6cc",
   "metadata": {},
   "outputs": [],
   "source": [
    " 5)      Write a SQL query to  select records with the largest area where pets are allowed .\n",
    "----- SELECT * FROM `Table2` WHERE `Pets Allowed` = true\n",
    "ORDER BY `Area` DESC LIMIT 1;\n"
   ]
  },
  {
   "cell_type": "markdown",
   "id": "2473d287",
   "metadata": {},
   "source": [
    "# Table 3 Queries"
   ]
  },
  {
   "cell_type": "code",
   "execution_count": null,
   "id": "ec48e3a2",
   "metadata": {},
   "outputs": [],
   "source": [
    " 1)     Write a SQL query to Select records where both Washer/Dryer and AC are available, and order by Sno.\n",
    "---- SELECT *\n",
    "FROM `Table3`\n",
    "WHERE `Washer/Dryer` = true AND `AC` = true\n",
    "ORDER BY `Sr_no`;\n"
   ]
  },
  {
   "cell_type": "code",
   "execution_count": null,
   "id": "f249d1a2",
   "metadata": {},
   "outputs": [],
   "source": [
    "2)      Write a SQL query to Select records where Hardwood floors are available but neither Roofdeck nor Storage is present, and order by Sno in descending order.\n",
    "---- SELECT *\n",
    "FROM `Table3`\n",
    "WHERE `Woodenfloors` = true AND `roof_deck` = false AND `storage` = false\n",
    "ORDER BY `Sr_no` DESC;\n"
   ]
  },
  {
   "cell_type": "code",
   "execution_count": null,
   "id": "40d48a9b",
   "metadata": {},
   "outputs": [],
   "source": [
    "3)     Write a SQL query to Select records where at least four amenities (AC, Parking, Dishwasher, Fireplace) are available, and order by Sno .\n",
    "--- SELECT *\n",
    "FROM `Table3`\n",
    "WHERE (`AC` = true AND `Parking` = true AND `Dishwasher` = true AND `Fireplace` = true)\n",
    "   OR (CASE WHEN `AC` = true THEN 1 ELSE 0 END +\n",
    "       CASE WHEN `Parking` = true THEN 1 ELSE 0 END +\n",
    "       CASE WHEN `Dishwasher` = true THEN 1 ELSE 0 END +\n",
    "       CASE WHEN `Fireplace` = true THEN 1 ELSE 0 END) >= 4\n",
    "ORDER BY `Sr_no`;\n"
   ]
  },
  {
   "cell_type": "code",
   "execution_count": null,
   "id": "eefaf60c",
   "metadata": {},
   "outputs": [],
   "source": [
    "  4)     Write a SQL query to Select records where neither Roofdeck nor Storage is available, and include the count of such records.\n",
    "---- SELECT *  COUNT(*) OVER () AS RecordCount FROM `Table3`\n",
    "WHERE `roof_deck` = false AND `storage` = false;\n"
   ]
  },
  {
   "cell_type": "code",
   "execution_count": null,
   "id": "90b457cf",
   "metadata": {},
   "outputs": [],
   "source": [
    "5)     Write a SQL query to Select records with Parking and either Fireplace or Dishwasher, and include the count of records for each condition.\n",
    "---   SELECT t3.*,\n",
    "       (SELECT COUNT(*) FROM table3 WHERE `parking` = true) AS `ParkingCount`,\n",
    "       (SELECT COUNT(*) FROM table3 WHERE `Fireplace` = true) AS `FireplaceCount`,\n",
    "       (SELECT COUNT(*) FROM table3 WHERE `Dishwasher` = true) AS `DishwasherCount`\n",
    "FROM Table3 t3\n",
    "WHERE `parking` = true AND (`Fireplace` = true OR `Dishwasher` = true);\n"
   ]
  },
  {
   "cell_type": "markdown",
   "id": "836be6e0",
   "metadata": {},
   "source": [
    "# Join SQL Queries  using all 3 tables"
   ]
  },
  {
   "cell_type": "code",
   "execution_count": null,
   "id": "86cb6eeb",
   "metadata": {},
   "outputs": [],
   "source": [
    "1)     Write a SQL  subquery to find records with more than the average area and related details using table 1 and table 2.\n",
    "-----  SELECT t1.*, t2.* FROM `Table1` t1 JOIN `Table2` t2 \n",
    "ON t1.Sr_no = t2.Sr_no\n",
    "WHERE t2.`Area` > (SELECT AVG(`Area`) FROM `Table2`);\n"
   ]
  },
  {
   "cell_type": "code",
   "execution_count": null,
   "id": "e0bdb61a",
   "metadata": {},
   "outputs": [],
   "source": [
    "2)     Write a subquery to find records in table1 based on conditions pets allowed is ‘YES’  and no of bed is greater than 3   in table2.\n",
    "--------  SELECT *\n",
    "FROM `Table1`\n",
    "WHERE `Sr_no` IN (\n",
    "    SELECT t2.Sr_no\n",
    "    FROM `Table2` t2\n",
    "    WHERE t2.`Pets Allowed` = 'YES' AND t2.`No of Beds` > 3);\n"
   ]
  },
  {
   "cell_type": "code",
   "execution_count": null,
   "id": "a02364b2",
   "metadata": {},
   "outputs": [],
   "source": [
    "3)        Write a SQL    subquery using both tables (2 and 3) to find records in Table2 with more than 2 bedrooms and related details from Table3 where AC is present .\n",
    "---- SELECT t2.*, t3.*\n",
    "FROM `Table2` t2\n",
    "JOIN `Table3` t3 ON t2.`Sr_no` = t3.`Sr_no`\n",
    "WHERE t2.`No of Beds` > 2 AND t3.`AC` = true;\n"
   ]
  },
  {
   "cell_type": "code",
   "execution_count": null,
   "id": "52d5d37c",
   "metadata": {},
   "outputs": [],
   "source": [
    "4)      Write a sql subquery  to find records in Table2 with pets allowed and a Dishwasher, and include related details from Table3.\n",
    "---- SELECT t2.*, t3.*\n",
    "FROM `Table2` t2\n",
    "JOIN `Table3` t3 ON t2.`Sr_no` = t3.`Sr_no`\n",
    "WHERE t2.`Pets Allowed` = 'YES' AND t3.`Dishwasher` = true;\n"
   ]
  },
  {
   "cell_type": "code",
   "execution_count": null,
   "id": "25c23a4b",
   "metadata": {},
   "outputs": [],
   "source": [
    "5)      Write a subquery  to find records in Table2 with the highest area and related details from Table3 where roofdeck is present.\n",
    "---- SELECT t2.*, t3.*\n",
    "FROM `Table2` t2\n",
    "JOIN `Table3` t3 ON t2.`Sr_no` = t3.`Sr_no`\n",
    "WHERE t2.`Area` = (SELECT MAX(`Area`) FROM Table2)\n",
    "  AND t3.`roof_deck` = true;\n"
   ]
  },
  {
   "cell_type": "code",
   "execution_count": null,
   "id": "0f60c1c6",
   "metadata": {},
   "outputs": [],
   "source": [
    "6)     Write a sql  Inner Join to combine information from table1 and table 2.\n",
    "\n",
    "--- SELECT *\n",
    "FROM `Table1`\n",
    "INNER JOIN `Table2` ON `Table1`.`Sr_no` = `Table2`.`Sr_no`;\n"
   ]
  },
  {
   "cell_type": "code",
   "execution_count": null,
   "id": "d24b36a6",
   "metadata": {},
   "outputs": [],
   "source": [
    "7)     Write SQL  Subquery to find records in table1 with pets allowed and a Washer/Dryer, and include details from table2 and table3  .\n",
    "---- SELECT t1.*, t2.*, t3.*\n",
    "FROM `Table1` t1\n",
    "JOIN `Table2` t2 ON t1.`Sr_no` = t2.`Sr_no`\n",
    "JOIN `Table3` t3 ON t1.`Sr_no` = t3.`Sr_no`\n",
    "WHERE t2.`Pets Allowed` = 'YES' AND t3.`Washer/Dryer` = true;\n"
   ]
  }
 ],
 "metadata": {
  "kernelspec": {
   "display_name": "Python 3 (ipykernel)",
   "language": "python",
   "name": "python3"
  },
  "language_info": {
   "codemirror_mode": {
    "name": "ipython",
    "version": 3
   },
   "file_extension": ".py",
   "mimetype": "text/x-python",
   "name": "python",
   "nbconvert_exporter": "python",
   "pygments_lexer": "ipython3",
   "version": "3.9.13"
  }
 },
 "nbformat": 4,
 "nbformat_minor": 5
}
